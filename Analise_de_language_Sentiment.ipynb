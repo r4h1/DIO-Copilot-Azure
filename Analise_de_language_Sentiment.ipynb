{
  "nbformat": 4,
  "nbformat_minor": 0,
  "metadata": {
    "colab": {
      "provenance": []
    },
    "kernelspec": {
      "name": "python3",
      "display_name": "Python 3"
    },
    "language_info": {
      "name": "python"
    }
  },
  "cells": [
    {
      "cell_type": "code",
      "execution_count": 2,
      "metadata": {
        "colab": {
          "base_uri": "https://localhost:8080/"
        },
        "id": "0fm7wSjmc5RJ",
        "outputId": "967a0506-21b8-4d0f-c870-dd4299d1d11d"
      },
      "outputs": [
        {
          "output_type": "stream",
          "name": "stdout",
          "text": [
            "Requirement already satisfied: textblob in /usr/local/lib/python3.11/dist-packages (0.19.0)\n",
            "Collecting langdetect\n",
            "  Downloading langdetect-1.0.9.tar.gz (981 kB)\n",
            "\u001b[2K     \u001b[90m━━━━━━━━━━━━━━━━━━━━━━━━━━━━━━━━━━━━━━━━\u001b[0m \u001b[32m981.5/981.5 kB\u001b[0m \u001b[31m10.6 MB/s\u001b[0m eta \u001b[36m0:00:00\u001b[0m\n",
            "\u001b[?25h  Preparing metadata (setup.py) ... \u001b[?25l\u001b[?25hdone\n",
            "Requirement already satisfied: nltk in /usr/local/lib/python3.11/dist-packages (3.9.1)\n",
            "Requirement already satisfied: six in /usr/local/lib/python3.11/dist-packages (from langdetect) (1.17.0)\n",
            "Requirement already satisfied: click in /usr/local/lib/python3.11/dist-packages (from nltk) (8.1.8)\n",
            "Requirement already satisfied: joblib in /usr/local/lib/python3.11/dist-packages (from nltk) (1.4.2)\n",
            "Requirement already satisfied: regex>=2021.8.3 in /usr/local/lib/python3.11/dist-packages (from nltk) (2024.11.6)\n",
            "Requirement already satisfied: tqdm in /usr/local/lib/python3.11/dist-packages (from nltk) (4.67.1)\n",
            "Building wheels for collected packages: langdetect\n",
            "  Building wheel for langdetect (setup.py) ... \u001b[?25l\u001b[?25hdone\n",
            "  Created wheel for langdetect: filename=langdetect-1.0.9-py3-none-any.whl size=993222 sha256=1c84c4ac561a90371181ea10d9bb1cc6624b6df4d3af5da584063016b0de539f\n",
            "  Stored in directory: /root/.cache/pip/wheels/0a/f2/b2/e5ca405801e05eb7c8ed5b3b4bcf1fcabcd6272c167640072e\n",
            "Successfully built langdetect\n",
            "Installing collected packages: langdetect\n",
            "Successfully installed langdetect-1.0.9\n"
          ]
        }
      ],
      "source": [
        "# Install dependencies:\n",
        "!pip install textblob langdetect nltk"
      ]
    },
    {
      "cell_type": "code",
      "source": [
        "from textblob import TextBlob\n",
        "from textblob.exceptions import NotTranslated\n",
        "from langdetect import detect, LangDetectException\n",
        "import nltk\n",
        "from nltk.sentiment import SentimentIntensityAnalyzer\n",
        "import re\n",
        "\n",
        "nltk.download('vader_lexicon', quiet=True)\n",
        "nltk.download('punkt', quiet=True)\n",
        "nltk.download('averaged_perceptron_tagger', quiet=True)\n",
        "\n",
        "def analyze_sentence(sentence):\n",
        "    \"\"\"\n",
        "    Analyzes a sentence for language, sentiment, and key instances.\n",
        "\n",
        "    Args:\n",
        "        sentence (str): The sentence to analyze.\n",
        "\n",
        "    Returns:\n",
        "        dict: A dictionary containing the analysis results.\n",
        "    \"\"\"\n",
        "    analysis = {}\n",
        "\n",
        "    try:\n",
        "        language = detect(sentence)\n",
        "        analysis['Language'] = language\n",
        "\n",
        "        blob = TextBlob(sentence)\n",
        "\n",
        "        # Sentiment Analysis (VADER for better accuracy)\n",
        "        analyzer = SentimentIntensityAnalyzer()\n",
        "        sentiment_scores = analyzer.polarity_scores(sentence)\n",
        "        if sentiment_scores['compound'] >= 0.05:\n",
        "            sentiment = \"Positive\"\n",
        "        elif sentiment_scores['compound'] <= -0.05:\n",
        "            sentiment = \"Negative\"\n",
        "        else:\n",
        "            sentiment = \"Neutral\"\n",
        "\n",
        "        analysis['Sentiment'] = sentiment\n",
        "\n",
        "        # Key Instances (basic example, can be improved with advanced NLP)\n",
        "        analysis['Instances'] = extract_instances(sentence)\n",
        "\n",
        "        # Key Words (basic example, can be improved with advanced NLP)\n",
        "        analysis['Key-word'] = extract_keywords(sentence)\n",
        "\n",
        "    except LangDetectException:\n",
        "        analysis['Language'] = \"Language detection failed\"\n",
        "        analysis['Sentiment'] = \"Sentiment analysis failed\"\n",
        "        analysis['Instances'] = \"Instance extraction failed\"\n",
        "        analysis['Key-word'] = \"Keyword extraction failed\"\n",
        "\n",
        "    return analysis\n",
        "\n",
        "def extract_instances(sentence):\n",
        "    \"\"\"\n",
        "    Extracts basic instances (people, places, feelings) from a sentence.\n",
        "    This is a simplified example and can be significantly improved with advanced NLP techniques.\n",
        "\n",
        "    Args:\n",
        "        sentence (str): The sentence to analyze.\n",
        "\n",
        "    Returns:\n",
        "        dict: A dictionary containing extracted instances.\n",
        "    \"\"\"\n",
        "    instances = {}\n",
        "\n",
        "    # Simple keyword-based extraction (can be improved with NER)\n",
        "    if \"friends\" in sentence.lower():\n",
        "        instances[\"People\"] = \"Friends and I\"\n",
        "    if \"party\" in sentence.lower():\n",
        "        instances[\"Place\"] = \"at a party\"\n",
        "    if \"nice time\" in sentence.lower() or \"good time\" in sentence.lower() or \"happy\" in sentence.lower():\n",
        "        instances[\"Feeling\"] = \"Positive\"\n",
        "    if \"sad\" in sentence.lower() or \"bad time\" in sentence.lower() or \"terrible\" in sentence.lower():\n",
        "        instances[\"Feeling\"] = \"Negative\"\n",
        "\n",
        "    return instances\n",
        "\n",
        "def extract_keywords(sentence):\n",
        "    \"\"\"\n",
        "    Extracts basic keywords from a sentence.\n",
        "    This is a simplified example and can be improved with advanced NLP techniques.\n",
        "\n",
        "    Args:\n",
        "        sentence (str): The sentence to analyze.\n",
        "\n",
        "    Returns:\n",
        "        str: A string containing extracted keywords.\n",
        "    \"\"\"\n",
        "    # Simple keyword extraction (can be improved with TF-IDF, etc.)\n",
        "    words = re.findall(r'\\b\\w+\\b', sentence.lower())\n",
        "    keywords = \" \".join(words)\n",
        "    return keywords\n",
        "\n",
        "# Get input from the user\n",
        "user_input = input(\"Enter a sentence: \")\n",
        "\n",
        "# Analyze the sentence\n",
        "result = analyze_sentence(user_input)\n",
        "\n",
        "# Print the result\n",
        "print(f\"Input: {user_input}\")\n",
        "print(f\"Output: {result}\")"
      ],
      "metadata": {
        "colab": {
          "base_uri": "https://localhost:8080/"
        },
        "id": "ybrW2T2idlVO",
        "outputId": "350b0fa8-d424-4aa8-b765-92e436be9e20"
      },
      "execution_count": 5,
      "outputs": [
        {
          "output_type": "stream",
          "name": "stdout",
          "text": [
            "Enter a sentence: Eu gosto de sorvetes.\n",
            "Input: Eu gosto de sorvetes.\n",
            "Output: {'Language': 'pt', 'Sentiment': 'Neutral', 'Instances': {}, 'Key-word': 'eu gosto de sorvetes'}\n"
          ]
        }
      ]
    }
  ]
}